{
 "cells": [
  {
   "cell_type": "code",
   "execution_count": 1,
   "metadata": {},
   "outputs": [],
   "source": [
    "#exercise1\n",
    "a=[]"
   ]
  },
  {
   "cell_type": "code",
   "execution_count": 2,
   "metadata": {},
   "outputs": [],
   "source": [
    "a.append('c')"
   ]
  },
  {
   "cell_type": "code",
   "execution_count": 3,
   "metadata": {},
   "outputs": [],
   "source": [
    "a.append(1.0)"
   ]
  },
  {
   "cell_type": "code",
   "execution_count": 4,
   "metadata": {},
   "outputs": [],
   "source": [
    "a.append(1)"
   ]
  },
  {
   "cell_type": "code",
   "execution_count": 5,
   "metadata": {},
   "outputs": [],
   "source": [
    "a.append([1,2,3])"
   ]
  },
  {
   "cell_type": "code",
   "execution_count": 6,
   "metadata": {},
   "outputs": [],
   "source": [
    "a.append(True)"
   ]
  },
  {
   "cell_type": "code",
   "execution_count": 15,
   "metadata": {},
   "outputs": [
    {
     "data": {
      "text/plain": [
       "str"
      ]
     },
     "execution_count": 15,
     "metadata": {},
     "output_type": "execute_result"
    }
   ],
   "source": [
    "type(a[0])"
   ]
  },
  {
   "cell_type": "code",
   "execution_count": 16,
   "metadata": {},
   "outputs": [
    {
     "data": {
      "text/plain": [
       "float"
      ]
     },
     "execution_count": 16,
     "metadata": {},
     "output_type": "execute_result"
    }
   ],
   "source": [
    "type(a[1])"
   ]
  },
  {
   "cell_type": "code",
   "execution_count": 17,
   "metadata": {},
   "outputs": [
    {
     "data": {
      "text/plain": [
       "int"
      ]
     },
     "execution_count": 17,
     "metadata": {},
     "output_type": "execute_result"
    }
   ],
   "source": [
    "type(a[2])"
   ]
  },
  {
   "cell_type": "code",
   "execution_count": 18,
   "metadata": {},
   "outputs": [
    {
     "data": {
      "text/plain": [
       "list"
      ]
     },
     "execution_count": 18,
     "metadata": {},
     "output_type": "execute_result"
    }
   ],
   "source": [
    "type(a[3])"
   ]
  },
  {
   "cell_type": "code",
   "execution_count": 19,
   "metadata": {},
   "outputs": [
    {
     "data": {
      "text/plain": [
       "bool"
      ]
     },
     "execution_count": 19,
     "metadata": {},
     "output_type": "execute_result"
    }
   ],
   "source": [
    "type(a[4])"
   ]
  },
  {
   "cell_type": "code",
   "execution_count": 33,
   "metadata": {},
   "outputs": [],
   "source": [
    "#exercise 2\n",
    "b=[1,2,3,4,5,6,7,8,9,10]"
   ]
  },
  {
   "cell_type": "code",
   "execution_count": 34,
   "metadata": {},
   "outputs": [],
   "source": [
    "b.append(11)"
   ]
  },
  {
   "cell_type": "code",
   "execution_count": 35,
   "metadata": {},
   "outputs": [],
   "source": [
    "b.remove(3)"
   ]
  },
  {
   "cell_type": "code",
   "execution_count": 36,
   "metadata": {},
   "outputs": [
    {
     "data": {
      "text/plain": [
       "11"
      ]
     },
     "execution_count": 36,
     "metadata": {},
     "output_type": "execute_result"
    }
   ],
   "source": [
    "max(b)"
   ]
  },
  {
   "cell_type": "code",
   "execution_count": 37,
   "metadata": {},
   "outputs": [
    {
     "data": {
      "text/plain": [
       "1"
      ]
     },
     "execution_count": 37,
     "metadata": {},
     "output_type": "execute_result"
    }
   ],
   "source": [
    "min(b)"
   ]
  },
  {
   "cell_type": "code",
   "execution_count": 38,
   "metadata": {},
   "outputs": [],
   "source": [
    "b+=b"
   ]
  },
  {
   "cell_type": "code",
   "execution_count": 39,
   "metadata": {},
   "outputs": [
    {
     "data": {
      "text/plain": [
       "[1, 2, 4, 5, 6, 7, 8, 9, 10, 11, 1, 2, 4, 5, 6, 7, 8, 9, 10, 11]"
      ]
     },
     "execution_count": 39,
     "metadata": {},
     "output_type": "execute_result"
    }
   ],
   "source": [
    "b"
   ]
  },
  {
   "cell_type": "code",
   "execution_count": 21,
   "metadata": {},
   "outputs": [
    {
     "name": "stdout",
     "output_type": "stream",
     "text": [
      "1\n",
      "2\n",
      "3\n",
      "4\n",
      "5\n",
      "6\n",
      "7\n",
      "8\n",
      "9\n",
      "10\n"
     ]
    }
   ],
   "source": [
    "#exercise 3\n",
    "a=[1,2,3,4,5,6,7,8,9,10]\n",
    "b=[]\n",
    "\n",
    "for i in a:\n",
    "    b.append(i**2)\n",
    "\n",
    "a=[]\n",
    "a.extend(b)"
   ]
  },
  {
   "cell_type": "code",
   "execution_count": 22,
   "metadata": {},
   "outputs": [
    {
     "data": {
      "text/plain": [
       "[1, 4, 9, 16, 25, 36, 49, 64, 81, 100]"
      ]
     },
     "execution_count": 22,
     "metadata": {},
     "output_type": "execute_result"
    }
   ],
   "source": [
    "a"
   ]
  },
  {
   "cell_type": "code",
   "execution_count": 23,
   "metadata": {},
   "outputs": [
    {
     "data": {
      "text/plain": [
       "[1, 4, 9, 16, 25, 36, 49, 64, 81, 100]"
      ]
     },
     "execution_count": 23,
     "metadata": {},
     "output_type": "execute_result"
    }
   ],
   "source": [
    "b"
   ]
  },
  {
   "cell_type": "code",
   "execution_count": 26,
   "metadata": {},
   "outputs": [
    {
     "name": "stdout",
     "output_type": "stream",
     "text": [
      "[0.    0.025 0.05  0.075 0.1   0.125 0.15  0.175 0.2   0.225 0.25  0.275\n",
      " 0.3   0.325 0.35  0.375 0.4   0.425 0.45  0.475 0.5   0.525 0.55  0.575\n",
      " 0.6   0.625 0.65  0.675 0.7   0.725 0.75  0.775 0.8   0.825 0.85  0.875\n",
      " 0.9   0.925 0.95  0.975]\n"
     ]
    }
   ],
   "source": [
    "#exercise 4\n",
    "import numpy as np\n",
    "import matplotlib.pyplot as plt\n",
    "\n",
    "x=np.arange(0,1,0.025)\n",
    "print(x)"
   ]
  },
  {
   "cell_type": "code",
   "execution_count": 30,
   "metadata": {},
   "outputs": [
    {
     "name": "stdout",
     "output_type": "stream",
     "text": [
      "[3.       3.025625 3.0525   3.080625 3.11     3.140625 3.1725   3.205625\n",
      " 3.24     3.275625 3.3125   3.350625 3.39     3.430625 3.4725   3.515625\n",
      " 3.56     3.605625 3.6525   3.700625 3.75     3.800625 3.8525   3.905625\n",
      " 3.96     4.015625 4.0725   4.130625 4.19     4.250625 4.3125   4.375625\n",
      " 4.44     4.505625 4.5725   4.640625 4.71     4.780625 4.8525   4.925625]\n"
     ]
    },
    {
     "data": {
      "text/plain": [
       "<function matplotlib.pyplot.show(*args, **kw)>"
      ]
     },
     "execution_count": 30,
     "metadata": {},
     "output_type": "execute_result"
    },
    {
     "data": {
      "image/png": "[encoded data removed]",
      "text/plain": [
       "<Figure size 432x288 with 1 Axes>"
      ]
     },
     "metadata": {
      "needs_background": "light"
     },
     "output_type": "display_data"
    }
   ],
   "source": [
    "#exercise 5\n",
    "import numpy as np\n",
    "import matplotlib.pyplot as plt\n",
    "\n",
    "x=np.arange(0,1,0.025)\n",
    "y = x*x + x + 3\n",
    "print(y)\n",
    "plt.plot(x,y)\n",
    "plt.show"
   ]
  },
  {
   "cell_type": "code",
   "execution_count": 11,
   "metadata": {},
   "outputs": [
    {
     "name": "stdout",
     "output_type": "stream",
     "text": [
      "3.7334375000000004\n"
     ]
    }
   ],
   "source": [
    "#exercise 6\n",
    "import numpy as np\n",
    "import matplotlib.pyplot as plt\n",
    "\n",
    "x=np.arange(0,1,0.025)\n",
    "y = x*x + x + 3\n",
    "area=0\n",
    "for i in range(1,40):\n",
    "    area+=(x[i]-x[i-1])*y[i]\n",
    "    \n",
    "print(area)"
   ]
  },
  {
   "cell_type": "code",
   "execution_count": 13,
   "metadata": {},
   "outputs": [],
   "source": [
    "#exercise 7\n",
    "fruit=['apple','banana','coconut','durian']"
   ]
  },
  {
   "cell_type": "code",
   "execution_count": 14,
   "metadata": {},
   "outputs": [],
   "source": [
    "fruit.remove('apple')"
   ]
  },
  {
   "cell_type": "code",
   "execution_count": 15,
   "metadata": {},
   "outputs": [],
   "source": [
    "fruit.append('rambutan')"
   ]
  },
  {
   "cell_type": "code",
   "execution_count": 16,
   "metadata": {
    "scrolled": true
   },
   "outputs": [
    {
     "data": {
      "text/plain": [
       "['banana', 'coconut', 'durian', 'rambutan']"
      ]
     },
     "execution_count": 16,
     "metadata": {},
     "output_type": "execute_result"
    }
   ],
   "source": [
    "fruit"
   ]
  },
  {
   "cell_type": "code",
   "execution_count": 41,
   "metadata": {},
   "outputs": [],
   "source": [
    "#Numpy Exercise 1\n",
    "from numpy import *\n",
    "a=[1,2,3,4,5]\n",
    "na =array([1,2,3,4,5])"
   ]
  },
  {
   "cell_type": "code",
   "execution_count": 42,
   "metadata": {},
   "outputs": [
    {
     "data": {
      "text/plain": [
       "array([1, 2, 3, 4, 5])"
      ]
     },
     "execution_count": 42,
     "metadata": {},
     "output_type": "execute_result"
    }
   ],
   "source": [
    "na"
   ]
  },
  {
   "cell_type": "code",
   "execution_count": 43,
   "metadata": {},
   "outputs": [
    {
     "data": {
      "text/plain": [
       "1"
      ]
     },
     "execution_count": 43,
     "metadata": {},
     "output_type": "execute_result"
    }
   ],
   "source": [
    "min(na)"
   ]
  },
  {
   "cell_type": "code",
   "execution_count": 44,
   "metadata": {},
   "outputs": [
    {
     "data": {
      "text/plain": [
       "5"
      ]
     },
     "execution_count": 44,
     "metadata": {},
     "output_type": "execute_result"
    }
   ],
   "source": [
    "max(na)"
   ]
  },
  {
   "cell_type": "code",
   "execution_count": 45,
   "metadata": {},
   "outputs": [],
   "source": [
    "c=[a,a,a,a,a]"
   ]
  },
  {
   "cell_type": "code",
   "execution_count": 46,
   "metadata": {},
   "outputs": [
    {
     "name": "stdout",
     "output_type": "stream",
     "text": [
      "1.0\n",
      "15\n"
     ]
    }
   ],
   "source": [
    "#Exercise 2\n",
    "count=0\n",
    "sum=0\n",
    "for i in a:\n",
    "    sum+=i\n",
    "    count+=1\n",
    "average=i/count\n",
    "print(average)\n",
    "print(sum)"
   ]
  },
  {
   "cell_type": "code",
   "execution_count": 47,
   "metadata": {},
   "outputs": [],
   "source": [
    "nc=[na,na,na,na,na]"
   ]
  },
  {
   "cell_type": "code",
   "execution_count": 48,
   "metadata": {},
   "outputs": [
    {
     "data": {
      "text/plain": [
       "[array([1, 2, 3, 4, 5]),\n",
       " array([1, 2, 3, 4, 5]),\n",
       " array([1, 2, 3, 4, 5]),\n",
       " array([1, 2, 3, 4, 5]),\n",
       " array([1, 2, 3, 4, 5])]"
      ]
     },
     "execution_count": 48,
     "metadata": {},
     "output_type": "execute_result"
    }
   ],
   "source": [
    "nc"
   ]
  },
  {
   "cell_type": "code",
   "execution_count": 50,
   "metadata": {},
   "outputs": [],
   "source": [
    "na=array([[1,2],[3,4]])"
   ]
  },
  {
   "cell_type": "code",
   "execution_count": 51,
   "metadata": {},
   "outputs": [
    {
     "data": {
      "text/plain": [
       "array([[2, 4],\n",
       "       [6, 8]])"
      ]
     },
     "execution_count": 51,
     "metadata": {},
     "output_type": "execute_result"
    }
   ],
   "source": [
    "2*na"
   ]
  },
  {
   "cell_type": "code",
   "execution_count": 52,
   "metadata": {},
   "outputs": [],
   "source": [
    "two=array([[2,2],[2,2]])"
   ]
  },
  {
   "cell_type": "raw",
   "metadata": {},
   "source": []
  },
  {
   "cell_type": "code",
   "execution_count": 53,
   "metadata": {},
   "outputs": [
    {
     "data": {
      "text/plain": [
       "array([[2, 4],\n",
       "       [6, 8]])"
      ]
     },
     "execution_count": 53,
     "metadata": {},
     "output_type": "execute_result"
    }
   ],
   "source": [
    "two*na"
   ]
  },
  {
   "cell_type": "code",
   "execution_count": 54,
   "metadata": {},
   "outputs": [],
   "source": [
    "twovec=array([2,2])"
   ]
  },
  {
   "cell_type": "code",
   "execution_count": 55,
   "metadata": {},
   "outputs": [
    {
     "data": {
      "text/plain": [
       "array([[2, 4],\n",
       "       [6, 8]])"
      ]
     },
     "execution_count": 55,
     "metadata": {},
     "output_type": "execute_result"
    }
   ],
   "source": [
    "twovec*na"
   ]
  },
  {
   "cell_type": "code",
   "execution_count": 56,
   "metadata": {},
   "outputs": [
    {
     "data": {
      "text/plain": [
       "array([1, 2])"
      ]
     },
     "execution_count": 56,
     "metadata": {},
     "output_type": "execute_result"
    }
   ],
   "source": [
    "na[0]"
   ]
  },
  {
   "cell_type": "code",
   "execution_count": 57,
   "metadata": {},
   "outputs": [
    {
     "data": {
      "text/plain": [
       "array([2, 4])"
      ]
     },
     "execution_count": 57,
     "metadata": {},
     "output_type": "execute_result"
    }
   ],
   "source": [
    "twovec[0]*na[0]"
   ]
  },
  {
   "cell_type": "code",
   "execution_count": 58,
   "metadata": {},
   "outputs": [],
   "source": [
    "twovec1=array([2,3])"
   ]
  },
  {
   "cell_type": "code",
   "execution_count": 59,
   "metadata": {},
   "outputs": [
    {
     "data": {
      "text/plain": [
       "array([4, 6])"
      ]
     },
     "execution_count": 59,
     "metadata": {},
     "output_type": "execute_result"
    }
   ],
   "source": [
    "twovec*twovec1"
   ]
  },
  {
   "cell_type": "code",
   "execution_count": 61,
   "metadata": {},
   "outputs": [
    {
     "data": {
      "text/plain": [
       "10"
      ]
     },
     "execution_count": 61,
     "metadata": {},
     "output_type": "execute_result"
    }
   ],
   "source": [
    "dot(twovec,twovec1)"
   ]
  },
  {
   "cell_type": "code",
   "execution_count": 62,
   "metadata": {},
   "outputs": [
    {
     "data": {
      "text/plain": [
       "array([[1, 2],\n",
       "       [3, 4]])"
      ]
     },
     "execution_count": 62,
     "metadata": {},
     "output_type": "execute_result"
    }
   ],
   "source": [
    "na"
   ]
  },
  {
   "cell_type": "code",
   "execution_count": 63,
   "metadata": {},
   "outputs": [],
   "source": [
    "nb=array([[1,2],[1,2]])"
   ]
  },
  {
   "cell_type": "code",
   "execution_count": 64,
   "metadata": {},
   "outputs": [
    {
     "data": {
      "text/plain": [
       "array([[ 3,  6],\n",
       "       [ 7, 14]])"
      ]
     },
     "execution_count": 64,
     "metadata": {},
     "output_type": "execute_result"
    }
   ],
   "source": [
    "dot(na,nb)"
   ]
  },
  {
   "cell_type": "code",
   "execution_count": 65,
   "metadata": {},
   "outputs": [
    {
     "data": {
      "text/plain": [
       "array([[1, 4],\n",
       "       [3, 8]])"
      ]
     },
     "execution_count": 65,
     "metadata": {},
     "output_type": "execute_result"
    }
   ],
   "source": [
    "na*nb"
   ]
  },
  {
   "cell_type": "code",
   "execution_count": 66,
   "metadata": {},
   "outputs": [
    {
     "data": {
      "text/plain": [
       "array([[ 3,  6],\n",
       "       [ 7, 14]])"
      ]
     },
     "execution_count": 66,
     "metadata": {},
     "output_type": "execute_result"
    }
   ],
   "source": [
    "matmul(na,nb)"
   ]
  },
  {
   "cell_type": "code",
   "execution_count": 67,
   "metadata": {},
   "outputs": [
    {
     "data": {
      "text/plain": [
       "array([[0, 0, 0],\n",
       "       [0, 0, 0],\n",
       "       [0, 0, 0]])"
      ]
     },
     "execution_count": 67,
     "metadata": {},
     "output_type": "execute_result"
    }
   ],
   "source": [
    "zeros((3,3),int)"
   ]
  },
  {
   "cell_type": "code",
   "execution_count": 69,
   "metadata": {},
   "outputs": [
    {
     "data": {
      "text/plain": [
       "array([[0, 0, 0, 0, 0],\n",
       "       [0, 0, 0, 0, 0],\n",
       "       [0, 0, 0, 0, 0],\n",
       "       [0, 0, 0, 0, 0],\n",
       "       [0, 0, 0, 0, 0]])"
      ]
     },
     "execution_count": 69,
     "metadata": {},
     "output_type": "execute_result"
    }
   ],
   "source": [
    "zeros((5,5),int)"
   ]
  },
  {
   "cell_type": "code",
   "execution_count": 70,
   "metadata": {},
   "outputs": [
    {
     "data": {
      "text/plain": [
       "array([[1., 1.],\n",
       "       [1., 1.]])"
      ]
     },
     "execution_count": 70,
     "metadata": {},
     "output_type": "execute_result"
    }
   ],
   "source": [
    "ones((2,2))"
   ]
  },
  {
   "cell_type": "code",
   "execution_count": 71,
   "metadata": {},
   "outputs": [
    {
     "data": {
      "text/plain": [
       "array([[1., 1., 1.],\n",
       "       [1., 1., 1.],\n",
       "       [1., 1., 1.]])"
      ]
     },
     "execution_count": 71,
     "metadata": {},
     "output_type": "execute_result"
    }
   ],
   "source": [
    "ones((3,3))"
   ]
  },
  {
   "cell_type": "code",
   "execution_count": 73,
   "metadata": {},
   "outputs": [
    {
     "data": {
      "text/plain": [
       "array([[[1., 1.],\n",
       "        [1., 1.]],\n",
       "\n",
       "       [[1., 1.],\n",
       "        [1., 1.]]])"
      ]
     },
     "execution_count": 73,
     "metadata": {},
     "output_type": "execute_result"
    }
   ],
   "source": [
    "ones((2,2,2))"
   ]
  },
  {
   "cell_type": "code",
   "execution_count": 74,
   "metadata": {},
   "outputs": [
    {
     "data": {
      "text/plain": [
       "array([2, 3, 4, 5, 6, 7, 8, 9])"
      ]
     },
     "execution_count": 74,
     "metadata": {},
     "output_type": "execute_result"
    }
   ],
   "source": [
    "arange(2,10)"
   ]
  },
  {
   "cell_type": "code",
   "execution_count": 75,
   "metadata": {},
   "outputs": [
    {
     "data": {
      "text/plain": [
       "array([2, 5, 8])"
      ]
     },
     "execution_count": 75,
     "metadata": {},
     "output_type": "execute_result"
    }
   ],
   "source": [
    "arange(2,10,3)"
   ]
  },
  {
   "cell_type": "code",
   "execution_count": 76,
   "metadata": {},
   "outputs": [
    {
     "data": {
      "text/plain": [
       "array([[1, 2],\n",
       "       [3, 4]])"
      ]
     },
     "execution_count": 76,
     "metadata": {},
     "output_type": "execute_result"
    }
   ],
   "source": [
    "na"
   ]
  },
  {
   "cell_type": "code",
   "execution_count": 78,
   "metadata": {},
   "outputs": [
    {
     "data": {
      "text/plain": [
       "3"
      ]
     },
     "execution_count": 78,
     "metadata": {},
     "output_type": "execute_result"
    }
   ],
   "source": [
    "na[1,0]"
   ]
  },
  {
   "cell_type": "code",
   "execution_count": 87,
   "metadata": {},
   "outputs": [
    {
     "data": {
      "image/png": "[encoded data removed]",
      "text/plain": [
       "<Figure size 432x288 with 1 Axes>"
      ]
     },
     "metadata": {
      "needs_background": "light"
     },
     "output_type": "display_data"
    }
   ],
   "source": [
    "import matplotlib.pyplot as plt\n",
    "import numpy as np\n",
    "\n",
    "x=np.arange(-10,10,0.5)\n",
    "y =x**2\n",
    "y1=x**3\n",
    "\n",
    "plt.plot(x,y,'o',x,y1,'*')\n",
    "\n",
    "plt.show()"
   ]
  },
  {
   "cell_type": "code",
   "execution_count": 89,
   "metadata": {},
   "outputs": [
    {
     "data": {
      "image/png": "[encoded data removed]",
      "text/plain": [
       "<Figure size 432x288 with 3 Axes>"
      ]
     },
     "metadata": {
      "needs_background": "light"
     },
     "output_type": "display_data"
    }
   ],
   "source": [
    "t = np.arange(0.01, 5.0, 0.01)\n",
    "s1 = np.sin(2 * np.pi * t)\n",
    "s2 = np.exp(-t)\n",
    "s3 = np.sin(4 * np.pi * t)\n",
    "\n",
    "ax1 = plt.subplot(311)\n",
    "plt.plot(t, s1)\n",
    "plt.setp(ax1.get_xticklabels(), fontsize=6)\n",
    "\n",
    "# share x only\n",
    "ax2 = plt.subplot(312, sharex=ax1)\n",
    "plt.plot(t, s2)\n",
    "# make these tick labels invisible\n",
    "plt.setp(ax2.get_xticklabels(), visible=False)\n",
    "\n",
    "# share x and y\n",
    "ax3 = plt.subplot(313, sharex=ax1, sharey=ax1)\n",
    "plt.plot(t, s3)\n",
    "plt.xlim(0.01, 5.0)\n",
    "plt.show()\n"
   ]
  },
  {
   "cell_type": "code",
   "execution_count": 95,
   "metadata": {},
   "outputs": [
    {
     "data": {
      "image/png": "[encoded data removed]",
      "text/plain": [
       "<Figure size 432x288 with 1 Axes>"
      ]
     },
     "metadata": {
      "needs_background": "light"
     },
     "output_type": "display_data"
    }
   ],
   "source": [
    "import matplotlib.pyplot as plt\n",
    "import numpy as np\n",
    "\n",
    "theta=np.arange(0,2*pi,0.1)\n",
    "x = 2*np.sin(theta)\n",
    "y = 2*np.cos(theta)\n",
    "\n",
    "plt.plot(x,y,'o')\n",
    "plt.axis('equal')\n",
    "plt.show()"
   ]
  },
  {
   "cell_type": "code",
   "execution_count": 99,
   "metadata": {},
   "outputs": [
    {
     "name": "stdout",
     "output_type": "stream",
     "text": [
      "3.0\n"
     ]
    }
   ],
   "source": [
    "#exercise 2\n",
    "import numpy as np\n",
    "sum=0\n",
    "count=0\n",
    "a=np.array([1,2,3,4,5])\n",
    "for i in a:\n",
    "    sum+=i\n",
    "    count+=1\n",
    "average=sum/count\n",
    "print(average)"
   ]
  },
  {
   "cell_type": "code",
   "execution_count": 100,
   "metadata": {},
   "outputs": [
    {
     "name": "stdout",
     "output_type": "stream",
     "text": [
      "[0.         0.06283185 0.12566371 0.18849556 0.25132741 0.31415927\n",
      " 0.37699112 0.43982297 0.50265482 0.56548668 0.62831853 0.69115038\n",
      " 0.75398224 0.81681409 0.87964594 0.9424778  1.00530965 1.0681415\n",
      " 1.13097336 1.19380521 1.25663706 1.31946891 1.38230077 1.44513262\n",
      " 1.50796447 1.57079633 1.63362818 1.69646003 1.75929189 1.82212374\n",
      " 1.88495559 1.94778745 2.0106193  2.07345115 2.136283   2.19911486\n",
      " 2.26194671 2.32477856 2.38761042 2.45044227 2.51327412 2.57610598\n",
      " 2.63893783 2.70176968 2.76460154 2.82743339 2.89026524 2.95309709\n",
      " 3.01592895 3.0787608  3.14159265 3.20442451 3.26725636 3.33008821\n",
      " 3.39292007 3.45575192 3.51858377 3.58141563 3.64424748 3.70707933\n",
      " 3.76991118 3.83274304 3.89557489 3.95840674 4.0212386  4.08407045\n",
      " 4.1469023  4.20973416 4.27256601 4.33539786 4.39822972 4.46106157\n",
      " 4.52389342 4.58672527 4.64955713 4.71238898 4.77522083 4.83805269\n",
      " 4.90088454 4.96371639 5.02654825 5.0893801  5.15221195 5.2150438\n",
      " 5.27787566 5.34070751 5.40353936 5.46637122 5.52920307 5.59203492\n",
      " 5.65486678 5.71769863 5.78053048 5.84336234 5.90619419 5.96902604\n",
      " 6.03185789 6.09468975 6.1575216  6.22035345]\n"
     ]
    }
   ],
   "source": [
    "#exercise 3\n",
    "theta=np.arange(0,2*pi,pi/50)\n",
    "print(theta)"
   ]
  },
  {
   "cell_type": "code",
   "execution_count": 101,
   "metadata": {},
   "outputs": [
    {
     "name": "stdout",
     "output_type": "stream",
     "text": [
      "[ 1.00000000e+00  9.98026728e-01  9.92114701e-01  9.82287251e-01\n",
      "  9.68583161e-01  9.51056516e-01  9.29776486e-01  9.04827052e-01\n",
      "  8.76306680e-01  8.44327926e-01  8.09016994e-01  7.70513243e-01\n",
      "  7.28968627e-01  6.84547106e-01  6.37423990e-01  5.87785252e-01\n",
      "  5.35826795e-01  4.81753674e-01  4.25779292e-01  3.68124553e-01\n",
      "  3.09016994e-01  2.48689887e-01  1.87381315e-01  1.25333234e-01\n",
      "  6.27905195e-02 -1.60812265e-16 -6.27905195e-02 -1.25333234e-01\n",
      " -1.87381315e-01 -2.48689887e-01 -3.09016994e-01 -3.68124553e-01\n",
      " -4.25779292e-01 -4.81753674e-01 -5.35826795e-01 -5.87785252e-01\n",
      " -6.37423990e-01 -6.84547106e-01 -7.28968627e-01 -7.70513243e-01\n",
      " -8.09016994e-01 -8.44327926e-01 -8.76306680e-01 -9.04827052e-01\n",
      " -9.29776486e-01 -9.51056516e-01 -9.68583161e-01 -9.82287251e-01\n",
      " -9.92114701e-01 -9.98026728e-01 -1.00000000e+00 -9.98026728e-01\n",
      " -9.92114701e-01 -9.82287251e-01 -9.68583161e-01 -9.51056516e-01\n",
      " -9.29776486e-01 -9.04827052e-01 -8.76306680e-01 -8.44327926e-01\n",
      " -8.09016994e-01 -7.70513243e-01 -7.28968627e-01 -6.84547106e-01\n",
      " -6.37423990e-01 -5.87785252e-01 -5.35826795e-01 -4.81753674e-01\n",
      " -4.25779292e-01 -3.68124553e-01 -3.09016994e-01 -2.48689887e-01\n",
      " -1.87381315e-01 -1.25333234e-01 -6.27905195e-02 -1.83697020e-16\n",
      "  6.27905195e-02  1.25333234e-01  1.87381315e-01  2.48689887e-01\n",
      "  3.09016994e-01  3.68124553e-01  4.25779292e-01  4.81753674e-01\n",
      "  5.35826795e-01  5.87785252e-01  6.37423990e-01  6.84547106e-01\n",
      "  7.28968627e-01  7.70513243e-01  8.09016994e-01  8.44327926e-01\n",
      "  8.76306680e-01  9.04827052e-01  9.29776486e-01  9.51056516e-01\n",
      "  9.68583161e-01  9.82287251e-01  9.92114701e-01  9.98026728e-01]\n",
      "[ 0.00000000e+00  6.27905195e-02  1.25333234e-01  1.87381315e-01\n",
      "  2.48689887e-01  3.09016994e-01  3.68124553e-01  4.25779292e-01\n",
      "  4.81753674e-01  5.35826795e-01  5.87785252e-01  6.37423990e-01\n",
      "  6.84547106e-01  7.28968627e-01  7.70513243e-01  8.09016994e-01\n",
      "  8.44327926e-01  8.76306680e-01  9.04827052e-01  9.29776486e-01\n",
      "  9.51056516e-01  9.68583161e-01  9.82287251e-01  9.92114701e-01\n",
      "  9.98026728e-01  1.00000000e+00  9.98026728e-01  9.92114701e-01\n",
      "  9.82287251e-01  9.68583161e-01  9.51056516e-01  9.29776486e-01\n",
      "  9.04827052e-01  8.76306680e-01  8.44327926e-01  8.09016994e-01\n",
      "  7.70513243e-01  7.28968627e-01  6.84547106e-01  6.37423990e-01\n",
      "  5.87785252e-01  5.35826795e-01  4.81753674e-01  4.25779292e-01\n",
      "  3.68124553e-01  3.09016994e-01  2.48689887e-01  1.87381315e-01\n",
      "  1.25333234e-01  6.27905195e-02 -3.21624530e-16 -6.27905195e-02\n",
      " -1.25333234e-01 -1.87381315e-01 -2.48689887e-01 -3.09016994e-01\n",
      " -3.68124553e-01 -4.25779292e-01 -4.81753674e-01 -5.35826795e-01\n",
      " -5.87785252e-01 -6.37423990e-01 -6.84547106e-01 -7.28968627e-01\n",
      " -7.70513243e-01 -8.09016994e-01 -8.44327926e-01 -8.76306680e-01\n",
      " -9.04827052e-01 -9.29776486e-01 -9.51056516e-01 -9.68583161e-01\n",
      " -9.82287251e-01 -9.92114701e-01 -9.98026728e-01 -1.00000000e+00\n",
      " -9.98026728e-01 -9.92114701e-01 -9.82287251e-01 -9.68583161e-01\n",
      " -9.51056516e-01 -9.29776486e-01 -9.04827052e-01 -8.76306680e-01\n",
      " -8.44327926e-01 -8.09016994e-01 -7.70513243e-01 -7.28968627e-01\n",
      " -6.84547106e-01 -6.37423990e-01 -5.87785252e-01 -5.35826795e-01\n",
      " -4.81753674e-01 -4.25779292e-01 -3.68124553e-01 -3.09016994e-01\n",
      " -2.48689887e-01 -1.87381315e-01 -1.25333234e-01 -6.27905195e-02]\n"
     ]
    }
   ],
   "source": [
    "#exercise 4\n",
    "x=np.cos(theta)\n",
    "print(x)\n",
    "y=np.sin(theta)\n",
    "print(y)"
   ]
  },
  {
   "cell_type": "code",
   "execution_count": 103,
   "metadata": {},
   "outputs": [
    {
     "data": {
      "text/plain": [
       "array([100, 200, 300, 400])"
      ]
     },
     "execution_count": 103,
     "metadata": {},
     "output_type": "execute_result"
    }
   ],
   "source": [
    "a=np.array([10,20,30,40,])\n",
    "b=[10,20,30,40]\n",
    "c=10\n",
    "\n",
    "a*c\n",
    "#a*c is multiple of each elements"
   ]
  },
  {
   "cell_type": "code",
   "execution_count": 104,
   "metadata": {},
   "outputs": [
    {
     "data": {
      "text/plain": [
       "[10,\n",
       " 20,\n",
       " 30,\n",
       " 40,\n",
       " 10,\n",
       " 20,\n",
       " 30,\n",
       " 40,\n",
       " 10,\n",
       " 20,\n",
       " 30,\n",
       " 40,\n",
       " 10,\n",
       " 20,\n",
       " 30,\n",
       " 40,\n",
       " 10,\n",
       " 20,\n",
       " 30,\n",
       " 40,\n",
       " 10,\n",
       " 20,\n",
       " 30,\n",
       " 40,\n",
       " 10,\n",
       " 20,\n",
       " 30,\n",
       " 40,\n",
       " 10,\n",
       " 20,\n",
       " 30,\n",
       " 40,\n",
       " 10,\n",
       " 20,\n",
       " 30,\n",
       " 40,\n",
       " 10,\n",
       " 20,\n",
       " 30,\n",
       " 40]"
      ]
     },
     "execution_count": 104,
     "metadata": {},
     "output_type": "execute_result"
    }
   ],
   "source": [
    "b*c\n",
    "#b*c is rotation of b array"
   ]
  },
  {
   "cell_type": "code",
   "execution_count": 105,
   "metadata": {},
   "outputs": [
    {
     "name": "stdout",
     "output_type": "stream",
     "text": [
      "Set the range of list12\n"
     ]
    },
    {
     "data": {
      "image/png": "[encoded data removed]",
      "text/plain": [
       "<Figure size 432x288 with 1 Axes>"
      ]
     },
     "metadata": {
      "needs_background": "light"
     },
     "output_type": "display_data"
    }
   ],
   "source": [
    "#Matplotlib exercise 1\n",
    "#--------------------------------------------------------\n",
    "#importing module\n",
    "import numpy as np\n",
    "import matplotlib.pyplot as plt\n",
    "import random\n",
    "# input the range of list to a\n",
    "a = int(input(\"Set the range of list\"))\n",
    "# set the void array,b and c\n",
    "b = []\n",
    "c = []\n",
    "#randomly multiple decimal from 0 to 1 each a times and put each elements to b array\n",
    "for i in range(a):\n",
    "    b.append(random.random()*2*np.pi)\n",
    "#\n",
    "for i in range(a):\n",
    "    c.append(np.cos(b[i]))\n",
    "\n",
    "plt.title(\"This is a test\")\n",
    "plt.plot(b,c)\n",
    "plt.show()"
   ]
  },
  {
   "cell_type": "code",
   "execution_count": 108,
   "metadata": {},
   "outputs": [
    {
     "data": {
      "text/plain": [
       "0.8510326547173036"
      ]
     },
     "execution_count": 108,
     "metadata": {},
     "output_type": "execute_result"
    }
   ],
   "source": [
    "random.random()"
   ]
  },
  {
   "cell_type": "code",
   "execution_count": null,
   "metadata": {},
   "outputs": [],
   "source": []
  }
 ],
 "metadata": {
  "kernelspec": {
   "display_name": "Python 3",
   "language": "python",
   "name": "python3"
  },
  "language_info": {
   "codemirror_mode": {
    "name": "ipython",
    "version": 3
   },
   "file_extension": ".py",
   "mimetype": "text/x-python",
   "name": "python",
   "nbconvert_exporter": "python",
   "pygments_lexer": "ipython3",
   "version": "3.5.2"
  }
 },
 "nbformat": 4,
 "nbformat_minor": 2
}
