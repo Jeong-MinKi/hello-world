{
 "cells": [
  {
   "cell_type": "code",
   "execution_count": 38,
   "metadata": {},
   "outputs": [
    {
     "data": {
      "image/png": "[encoded data removed]",
      "text/plain": [
       "<Figure size 432x288 with 1 Axes>"
      ]
     },
     "metadata": {
      "needs_background": "light"
     },
     "output_type": "display_data"
    }
   ],
   "source": [
    "import matplotlib.pyplot as plt\n",
    "import numpy as np\n",
    "\n",
    "theta=np.arange(0,2*pi,0.1)\n",
    "x = 2*np.sin(theta)\n",
    "y = 2*np.cos(theta)\n",
    "\n",
    "plt.plot(x,y,'o')\n",
    "plt.axis('equal')\n",
    "plt.show()"
   ]
  },
  {
   "cell_type": "code",
   "execution_count": 39,
   "metadata": {},
   "outputs": [
    {
     "name": "stdout",
     "output_type": "stream",
     "text": [
      "3.0\n"
     ]
    }
   ],
   "source": [
    "#exercise 2\n",
    "import numpy as np\n",
    "sum=0\n",
    "count=0\n",
    "a=np.array([1,2,3,4,5])\n",
    "for i in a:\n",
    "    sum+=i\n",
    "    count+=1\n",
    "average=sum/count\n",
    "print(average)"
   ]
  },
  {
   "cell_type": "code",
   "execution_count": 40,
   "metadata": {},
   "outputs": [
    {
     "name": "stdout",
     "output_type": "stream",
     "text": [
      "[0.         0.06283185 0.12566371 0.18849556 0.25132741 0.31415927\n",
      " 0.37699112 0.43982297 0.50265482 0.56548668 0.62831853 0.69115038\n",
      " 0.75398224 0.81681409 0.87964594 0.9424778  1.00530965 1.0681415\n",
      " 1.13097336 1.19380521 1.25663706 1.31946891 1.38230077 1.44513262\n",
      " 1.50796447 1.57079633 1.63362818 1.69646003 1.75929189 1.82212374\n",
      " 1.88495559 1.94778745 2.0106193  2.07345115 2.136283   2.19911486\n",
      " 2.26194671 2.32477856 2.38761042 2.45044227 2.51327412 2.57610598\n",
      " 2.63893783 2.70176968 2.76460154 2.82743339 2.89026524 2.95309709\n",
      " 3.01592895 3.0787608  3.14159265 3.20442451 3.26725636 3.33008821\n",
      " 3.39292007 3.45575192 3.51858377 3.58141563 3.64424748 3.70707933\n",
      " 3.76991118 3.83274304 3.89557489 3.95840674 4.0212386  4.08407045\n",
      " 4.1469023  4.20973416 4.27256601 4.33539786 4.39822972 4.46106157\n",
      " 4.52389342 4.58672527 4.64955713 4.71238898 4.77522083 4.83805269\n",
      " 4.90088454 4.96371639 5.02654825 5.0893801  5.15221195 5.2150438\n",
      " 5.27787566 5.34070751 5.40353936 5.46637122 5.52920307 5.59203492\n",
      " 5.65486678 5.71769863 5.78053048 5.84336234 5.90619419 5.96902604\n",
      " 6.03185789 6.09468975 6.1575216  6.22035345]\n"
     ]
    }
   ],
   "source": [
    "#exercise 3\n",
    "theta=np.arange(0,2*pi,pi/50)\n",
    "print(theta)"
   ]
  },
  {
   "cell_type": "code",
   "execution_count": 41,
   "metadata": {},
   "outputs": [
    {
     "name": "stdout",
     "output_type": "stream",
     "text": [
      "[ 1.00000000e+00  9.98026728e-01  9.92114701e-01  9.82287251e-01\n",
      "  9.68583161e-01  9.51056516e-01  9.29776486e-01  9.04827052e-01\n",
      "  8.76306680e-01  8.44327926e-01  8.09016994e-01  7.70513243e-01\n",
      "  7.28968627e-01  6.84547106e-01  6.37423990e-01  5.87785252e-01\n",
      "  5.35826795e-01  4.81753674e-01  4.25779292e-01  3.68124553e-01\n",
      "  3.09016994e-01  2.48689887e-01  1.87381315e-01  1.25333234e-01\n",
      "  6.27905195e-02 -1.60812265e-16 -6.27905195e-02 -1.25333234e-01\n",
      " -1.87381315e-01 -2.48689887e-01 -3.09016994e-01 -3.68124553e-01\n",
      " -4.25779292e-01 -4.81753674e-01 -5.35826795e-01 -5.87785252e-01\n",
      " -6.37423990e-01 -6.84547106e-01 -7.28968627e-01 -7.70513243e-01\n",
      " -8.09016994e-01 -8.44327926e-01 -8.76306680e-01 -9.04827052e-01\n",
      " -9.29776486e-01 -9.51056516e-01 -9.68583161e-01 -9.82287251e-01\n",
      " -9.92114701e-01 -9.98026728e-01 -1.00000000e+00 -9.98026728e-01\n",
      " -9.92114701e-01 -9.82287251e-01 -9.68583161e-01 -9.51056516e-01\n",
      " -9.29776486e-01 -9.04827052e-01 -8.76306680e-01 -8.44327926e-01\n",
      " -8.09016994e-01 -7.70513243e-01 -7.28968627e-01 -6.84547106e-01\n",
      " -6.37423990e-01 -5.87785252e-01 -5.35826795e-01 -4.81753674e-01\n",
      " -4.25779292e-01 -3.68124553e-01 -3.09016994e-01 -2.48689887e-01\n",
      " -1.87381315e-01 -1.25333234e-01 -6.27905195e-02 -1.83697020e-16\n",
      "  6.27905195e-02  1.25333234e-01  1.87381315e-01  2.48689887e-01\n",
      "  3.09016994e-01  3.68124553e-01  4.25779292e-01  4.81753674e-01\n",
      "  5.35826795e-01  5.87785252e-01  6.37423990e-01  6.84547106e-01\n",
      "  7.28968627e-01  7.70513243e-01  8.09016994e-01  8.44327926e-01\n",
      "  8.76306680e-01  9.04827052e-01  9.29776486e-01  9.51056516e-01\n",
      "  9.68583161e-01  9.82287251e-01  9.92114701e-01  9.98026728e-01]\n",
      "[ 0.00000000e+00  6.27905195e-02  1.25333234e-01  1.87381315e-01\n",
      "  2.48689887e-01  3.09016994e-01  3.68124553e-01  4.25779292e-01\n",
      "  4.81753674e-01  5.35826795e-01  5.87785252e-01  6.37423990e-01\n",
      "  6.84547106e-01  7.28968627e-01  7.70513243e-01  8.09016994e-01\n",
      "  8.44327926e-01  8.76306680e-01  9.04827052e-01  9.29776486e-01\n",
      "  9.51056516e-01  9.68583161e-01  9.82287251e-01  9.92114701e-01\n",
      "  9.98026728e-01  1.00000000e+00  9.98026728e-01  9.92114701e-01\n",
      "  9.82287251e-01  9.68583161e-01  9.51056516e-01  9.29776486e-01\n",
      "  9.04827052e-01  8.76306680e-01  8.44327926e-01  8.09016994e-01\n",
      "  7.70513243e-01  7.28968627e-01  6.84547106e-01  6.37423990e-01\n",
      "  5.87785252e-01  5.35826795e-01  4.81753674e-01  4.25779292e-01\n",
      "  3.68124553e-01  3.09016994e-01  2.48689887e-01  1.87381315e-01\n",
      "  1.25333234e-01  6.27905195e-02 -3.21624530e-16 -6.27905195e-02\n",
      " -1.25333234e-01 -1.87381315e-01 -2.48689887e-01 -3.09016994e-01\n",
      " -3.68124553e-01 -4.25779292e-01 -4.81753674e-01 -5.35826795e-01\n",
      " -5.87785252e-01 -6.37423990e-01 -6.84547106e-01 -7.28968627e-01\n",
      " -7.70513243e-01 -8.09016994e-01 -8.44327926e-01 -8.76306680e-01\n",
      " -9.04827052e-01 -9.29776486e-01 -9.51056516e-01 -9.68583161e-01\n",
      " -9.82287251e-01 -9.92114701e-01 -9.98026728e-01 -1.00000000e+00\n",
      " -9.98026728e-01 -9.92114701e-01 -9.82287251e-01 -9.68583161e-01\n",
      " -9.51056516e-01 -9.29776486e-01 -9.04827052e-01 -8.76306680e-01\n",
      " -8.44327926e-01 -8.09016994e-01 -7.70513243e-01 -7.28968627e-01\n",
      " -6.84547106e-01 -6.37423990e-01 -5.87785252e-01 -5.35826795e-01\n",
      " -4.81753674e-01 -4.25779292e-01 -3.68124553e-01 -3.09016994e-01\n",
      " -2.48689887e-01 -1.87381315e-01 -1.25333234e-01 -6.27905195e-02]\n"
     ]
    }
   ],
   "source": [
    "#exercise 4\n",
    "x=np.cos(theta)\n",
    "print(x)\n",
    "y=np.sin(theta)\n",
    "print(y)"
   ]
  },
  {
   "cell_type": "code",
   "execution_count": 42,
   "metadata": {},
   "outputs": [],
   "source": [
    "a=np.array([10,20,30,40,])\n",
    "b=[10,20,30,40]\n",
    "c=10"
   ]
  },
  {
   "cell_type": "code",
   "execution_count": 43,
   "metadata": {},
   "outputs": [
    {
     "data": {
      "text/plain": [
       "array([100, 200, 300, 400])"
      ]
     },
     "execution_count": 43,
     "metadata": {},
     "output_type": "execute_result"
    }
   ],
   "source": [
    "a*c\n",
    "#a*c is multiple of each elements"
   ]
  },
  {
   "cell_type": "code",
   "execution_count": 44,
   "metadata": {},
   "outputs": [
    {
     "data": {
      "text/plain": [
       "[10,\n",
       " 20,\n",
       " 30,\n",
       " 40,\n",
       " 10,\n",
       " 20,\n",
       " 30,\n",
       " 40,\n",
       " 10,\n",
       " 20,\n",
       " 30,\n",
       " 40,\n",
       " 10,\n",
       " 20,\n",
       " 30,\n",
       " 40,\n",
       " 10,\n",
       " 20,\n",
       " 30,\n",
       " 40,\n",
       " 10,\n",
       " 20,\n",
       " 30,\n",
       " 40,\n",
       " 10,\n",
       " 20,\n",
       " 30,\n",
       " 40,\n",
       " 10,\n",
       " 20,\n",
       " 30,\n",
       " 40,\n",
       " 10,\n",
       " 20,\n",
       " 30,\n",
       " 40,\n",
       " 10,\n",
       " 20,\n",
       " 30,\n",
       " 40]"
      ]
     },
     "execution_count": 44,
     "metadata": {},
     "output_type": "execute_result"
    }
   ],
   "source": [
    "b*c\n",
    "#b*c is rotation of b array"
   ]
  },
  {
   "cell_type": "code",
   "execution_count": null,
   "metadata": {},
   "outputs": [],
   "source": [
    "#Matplotlib exercise 1\n",
    "#--------------------------------------------------------\n",
    "#importing module\n",
    "import numpy as np\n",
    "import matplotlib.pyplot as plt\n",
    "import random\n",
    "# input the range of list to a\n",
    "a = int(input(\"Set the range of list\"))\n",
    "# set the void array,b and c\n",
    "b = []\n",
    "c = []\n",
    "#randomly multiple decimal from 0 to 1 each a times and put each elements to b array\n",
    "for i in range(a):\n",
    "    b.append(random.random()*2*np.pi)\n",
    "#\n",
    "for i in range(a):\n",
    "    c.append(np.cos(b[i]))\n",
    "\n",
    "plt.title(\"This is a test\")\n",
    "plt.plot(b,c)\n",
    "plt.show()\n",
    "\n",
    "random.random()"
   ]
  }
 ],
 "metadata": {
  "kernelspec": {
   "display_name": "Python 3",
   "language": "python",
   "name": "python3"
  },
  "language_info": {
   "codemirror_mode": {
    "name": "ipython",
    "version": 3
   },
   "file_extension": ".py",
   "mimetype": "text/x-python",
   "name": "python",
   "nbconvert_exporter": "python",
   "pygments_lexer": "ipython3",
   "version": "3.7.3"
  }
 },
 "nbformat": 4,
 "nbformat_minor": 2
}
