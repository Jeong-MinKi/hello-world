{
 "cells": [
  {
   "cell_type": "code",
   "execution_count": 15,
   "metadata": {},
   "outputs": [
    {
     "name": "stdout",
     "output_type": "stream",
     "text": [
      "enter first number:a\n",
      "enter second other number:4\n",
      "Please type a number\n"
     ]
    }
   ],
   "source": [
    "a = input('enter first number:')\n",
    "b = input('enter second other number:')\n",
    "\n",
    "try:\n",
    "    x = int(a)\n",
    "except:\n",
    "    x = -1\n",
    "\n",
    "try:\n",
    "    y = int(b)\n",
    "except:\n",
    "    y = -1\n",
    "\n",
    "if x == -1 or y == -1:\n",
    "    print('Please type a number')\n",
    "else:\n",
    "    if a>b:\n",
    "        print('a is bigger')\n",
    "    elif a<b:\n",
    "        print('b is bigger')\n"
   ]
  },
  {
   "cell_type": "code",
   "execution_count": null,
   "metadata": {},
   "outputs": [],
   "source": []
  }
 ],
 "metadata": {
  "kernelspec": {
   "display_name": "Python 3",
   "language": "python",
   "name": "python3"
  },
  "language_info": {
   "codemirror_mode": {
    "name": "ipython",
    "version": 3
   },
   "file_extension": ".py",
   "mimetype": "text/x-python",
   "name": "python",
   "nbconvert_exporter": "python",
   "pygments_lexer": "ipython3",
   "version": "3.7.3"
  }
 },
 "nbformat": 4,
 "nbformat_minor": 2
}
