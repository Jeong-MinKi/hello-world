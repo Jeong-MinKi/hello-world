{
 "cells": [
  {
   "cell_type": "code",
   "execution_count": 1,
   "metadata": {},
   "outputs": [
    {
     "name": "stdout",
     "output_type": "stream",
     "text": [
      "Here we are before the counter update 1\n",
      "Here we are after the counter update 1\n",
      "\n",
      "Here we are before the counter update 2\n",
      "Here we are after the counter update 2\n",
      "\n",
      "Here we are before the counter update 4\n",
      "Here we are after the counter update 4\n",
      "\n",
      "Here we are before the counter update 5\n",
      "Here we are after the counter update 5\n",
      "\n",
      "Here we are before the counter update 6\n",
      "Here we are after the counter update 6\n",
      "\n",
      "Here we are before the counter update 7\n",
      "Here we are after the counter update 7\n",
      "\n",
      "Here we are before the counter update 8\n",
      "Here we are after the counter update 8\n",
      "\n",
      "Here we are before the counter update 9\n",
      "Here we are after the counter update 9\n",
      "\n",
      "Here we are before the counter update 10\n",
      "Here we are after the counter update 10\n",
      "\n"
     ]
    }
   ],
   "source": [
    "n = 0\n",
    "while n<10:\n",
    "    n=n+1\n",
    "#    if n>2 and n<4:\n",
    "    if n==3:\n",
    "        continue\n",
    "#        break   \n",
    "        \n",
    "    print('Here we are before the counter update',n)\n",
    "   \n",
    "    print('Here we are after the counter update', n)\n",
    "    print()\n",
    "    \n",
    "\n"
   ]
  },
  {
   "cell_type": "code",
   "execution_count": 2,
   "metadata": {},
   "outputs": [
    {
     "name": "stdout",
     "output_type": "stream",
     "text": [
      "5\n",
      "4\n",
      "3\n",
      "2\n",
      "1\n"
     ]
    }
   ],
   "source": [
    "# Forloops.\n",
    "\n",
    "a = [5,4,3,2,1]\n",
    "\n",
    "for b in a:\n",
    "    print(b)"
   ]
  },
  {
   "cell_type": "code",
   "execution_count": 6,
   "metadata": {},
   "outputs": [
    {
     "name": "stdout",
     "output_type": "stream",
     "text": [
      "0\n",
      "1\n",
      "2\n",
      "3\n",
      "4\n",
      "5\n",
      "6\n",
      "7\n",
      "8\n",
      "9\n"
     ]
    }
   ],
   "source": [
    "for i in range(10):\n",
    "    print(i,end='\\n')"
   ]
  },
  {
   "cell_type": "code",
   "execution_count": 7,
   "metadata": {},
   "outputs": [
    {
     "data": {
      "text/plain": [
       "5"
      ]
     },
     "execution_count": 7,
     "metadata": {},
     "output_type": "execute_result"
    }
   ],
   "source": [
    "a[0]"
   ]
  },
  {
   "cell_type": "code",
   "execution_count": 9,
   "metadata": {},
   "outputs": [
    {
     "data": {
      "text/plain": [
       "4"
      ]
     },
     "execution_count": 9,
     "metadata": {},
     "output_type": "execute_result"
    }
   ],
   "source": [
    "a[1]"
   ]
  },
  {
   "cell_type": "code",
   "execution_count": 12,
   "metadata": {},
   "outputs": [
    {
     "name": "stdout",
     "output_type": "stream",
     "text": [
      "74\n"
     ]
    }
   ],
   "source": [
    "largest_number = -1\n",
    "for number in [9,41,12,3,74,15]:\n",
    "    if number >largest_number:\n",
    "        largest_number=number\n",
    "print (largest_number)"
   ]
  },
  {
   "cell_type": "code",
   "execution_count": 16,
   "metadata": {},
   "outputs": [
    {
     "name": "stdout",
     "output_type": "stream",
     "text": [
      "[56, 9, 99, 50, 55, 33, 10, 69, 92, 28]\n"
     ]
    }
   ],
   "source": [
    "#Exercise 1.\n",
    "#Generate a list of 10 random nubmers\n",
    "# and evaluate the maximum and minimum\n",
    "# using a for loop and comparisons\n",
    "\n",
    "import random\n",
    "\n",
    "\n",
    "a=[0,1,2,3,4,5,6,7,8,9]\n",
    "\n",
    "for i in range(10):\n",
    "    a[i]=random.randint(1,100)\n",
    "\n",
    "print(a)"
   ]
  },
  {
   "cell_type": "code",
   "execution_count": 19,
   "metadata": {},
   "outputs": [
    {
     "name": "stdout",
     "output_type": "stream",
     "text": [
      "Smallest so far 56\n",
      "Largest so far 56\n",
      "Smallest so far 9\n",
      "Largest so far 99\n",
      "9 minval\n",
      "99 maxval\n"
     ]
    }
   ],
   "source": [
    "minval= 1000\n",
    "maxval= -1\n",
    "\n",
    "\n",
    "for i in a:\n",
    "    if i < minval:\n",
    "        minval = i\n",
    "        print('Smallest so far',i)\n",
    "    if i > maxval:\n",
    "        maxval = i\n",
    "        print('Largest so far',i)\n",
    "print (minval,'minval')\n",
    "print (maxval,'maxval')"
   ]
  },
  {
   "cell_type": "code",
   "execution_count": 25,
   "metadata": {},
   "outputs": [
    {
     "data": {
      "text/plain": [
       "[9, 10, 28, 33, 50, 55, 56, 69, 92, 99]"
      ]
     },
     "execution_count": 25,
     "metadata": {},
     "output_type": "execute_result"
    }
   ],
   "source": [
    "sorted(a)\n"
   ]
  },
  {
   "cell_type": "code",
   "execution_count": 4,
   "metadata": {},
   "outputs": [
    {
     "name": "stdout",
     "output_type": "stream",
     "text": [
      "Celsius Fahrenheit\n",
      "0 32\n",
      "3 37\n",
      "6 43\n",
      "9 48\n",
      "12 54\n",
      "15 59\n",
      "18 64\n",
      "21 70\n",
      "24 75\n",
      "27 81\n",
      "30 86\n",
      "33 91\n",
      "36 97\n",
      "39 102\n",
      "42 108\n",
      "45 113\n",
      "48 118\n",
      "51 124\n",
      "54 129\n",
      "57 135\n",
      "60 140\n",
      "63 145\n",
      "66 151\n",
      "69 156\n",
      "72 162\n",
      "75 167\n",
      "78 172\n",
      "81 178\n",
      "84 183\n",
      "87 189\n",
      "90 194\n",
      "93 199\n",
      "96 205\n",
      "99 210\n"
     ]
    }
   ],
   "source": [
    "#Exercise 1.\n",
    "Celsuis = 0\n",
    "Fahrenheit = 32.0\n",
    "print('Celsius','Fahrenheit')\n",
    "\n",
    "while Celsuis<=100:\n",
    "    Fahrenheit = Celsuis*(9/5)+32\n",
    "    print(Celsuis, round(Fahrenheit))\n",
    "    Celsuis += 3"
   ]
  },
  {
   "cell_type": "code",
   "execution_count": 11,
   "metadata": {},
   "outputs": [
    {
     "name": "stdout",
     "output_type": "stream",
     "text": [
      "1 * 1 = 1\n",
      "1 * 2 = 2\n",
      "1 * 3 = 3\n",
      "1 * 4 = 4\n",
      "1 * 5 = 5\n",
      "1 * 6 = 6\n",
      "1 * 7 = 7\n",
      "1 * 8 = 8\n",
      "1 * 9 = 9\n",
      "2 * 1 = 2\n",
      "2 * 2 = 4\n",
      "2 * 3 = 6\n",
      "2 * 4 = 8\n",
      "2 * 5 = 10\n",
      "2 * 6 = 12\n",
      "2 * 7 = 14\n",
      "2 * 8 = 16\n",
      "2 * 9 = 18\n",
      "3 * 1 = 3\n",
      "3 * 2 = 6\n",
      "3 * 3 = 9\n",
      "3 * 4 = 12\n",
      "3 * 5 = 15\n",
      "3 * 6 = 18\n",
      "3 * 7 = 21\n",
      "3 * 8 = 24\n",
      "3 * 9 = 27\n",
      "4 * 1 = 4\n",
      "4 * 2 = 8\n",
      "4 * 3 = 12\n",
      "4 * 4 = 16\n",
      "4 * 5 = 20\n",
      "4 * 6 = 24\n",
      "4 * 7 = 28\n",
      "4 * 8 = 32\n",
      "4 * 9 = 36\n",
      "5 * 1 = 5\n",
      "5 * 2 = 10\n",
      "5 * 3 = 15\n",
      "5 * 4 = 20\n",
      "5 * 5 = 25\n",
      "5 * 6 = 30\n",
      "5 * 7 = 35\n",
      "5 * 8 = 40\n",
      "5 * 9 = 45\n",
      "6 * 1 = 6\n",
      "6 * 2 = 12\n",
      "6 * 3 = 18\n",
      "6 * 4 = 24\n",
      "6 * 5 = 30\n",
      "6 * 6 = 36\n",
      "6 * 7 = 42\n",
      "6 * 8 = 48\n",
      "6 * 9 = 54\n",
      "7 * 1 = 7\n",
      "7 * 2 = 14\n",
      "7 * 3 = 21\n",
      "7 * 4 = 28\n",
      "7 * 5 = 35\n",
      "7 * 6 = 42\n",
      "7 * 7 = 49\n",
      "7 * 8 = 56\n",
      "7 * 9 = 63\n",
      "8 * 1 = 8\n",
      "8 * 2 = 16\n",
      "8 * 3 = 24\n",
      "8 * 4 = 32\n",
      "8 * 5 = 40\n",
      "8 * 6 = 48\n",
      "8 * 7 = 56\n",
      "8 * 8 = 64\n",
      "8 * 9 = 72\n",
      "9 * 1 = 9\n",
      "9 * 2 = 18\n",
      "9 * 3 = 27\n",
      "9 * 4 = 36\n",
      "9 * 5 = 45\n",
      "9 * 6 = 54\n",
      "9 * 7 = 63\n",
      "9 * 8 = 72\n",
      "9 * 9 = 81\n"
     ]
    }
   ],
   "source": [
    "#Exercise 2.\n",
    "a = 1\n",
    "b = 1\n",
    "c=1\n",
    "while True:\n",
    "    c=a*b\n",
    "    print(a,'*',b,'=',c)\n",
    "    b += 1\n",
    "    if b>9:\n",
    "        b = 1\n",
    "        a += 1\n",
    "    if a>9:\n",
    "        break"
   ]
  },
  {
   "cell_type": "code",
   "execution_count": 3,
   "metadata": {},
   "outputs": [
    {
     "name": "stdout",
     "output_type": "stream",
     "text": [
      "25.5\n"
     ]
    }
   ],
   "source": [
    "#Exercise 3.\n",
    "a=0\n",
    "b=0\n",
    "\n",
    "while b<50:\n",
    "    b+=1\n",
    "    a+=b\n",
    "    \n",
    "average= a/b\n",
    "print(average)"
   ]
  },
  {
   "cell_type": "code",
   "execution_count": 2,
   "metadata": {},
   "outputs": [
    {
     "name": "stdout",
     "output_type": "stream",
     "text": [
      "1\n",
      "3\n",
      "5\n",
      "7\n",
      "9\n",
      "11\n",
      "13\n",
      "15\n",
      "17\n",
      "19\n"
     ]
    }
   ],
   "source": [
    "#Exercise 4.\n",
    "i=0\n",
    "while i < 20:\n",
    "    i += 1\n",
    "    if i %2 == 0:\n",
    "        continue\n",
    "    else:\n",
    "        print (i)\n",
    "    "
   ]
  },
  {
   "cell_type": "code",
   "execution_count": 8,
   "metadata": {},
   "outputs": [
    {
     "name": "stdout",
     "output_type": "stream",
     "text": [
      "Please enter the number:45\n",
      "1 45\n",
      "3 15\n",
      "5 9\n",
      "9 5\n",
      "15 3\n",
      "45 1\n"
     ]
    }
   ],
   "source": [
    "#Exercise 5.\n",
    "def factprint(a):\n",
    "    b = 0\n",
    "    while True:\n",
    "        b += 1\n",
    "        c=a/b\n",
    "        if a % b == 0:\n",
    "            print (b,round(c))\n",
    "        if b>a:\n",
    "            break\n",
    "        \n",
    "        \n",
    "a = int(input('Please enter the number:'))\n",
    "factprint(a)\n",
    "        "
   ]
  },
  {
   "cell_type": "code",
   "execution_count": null,
   "metadata": {},
   "outputs": [],
   "source": []
  }
 ],
 "metadata": {
  "kernelspec": {
   "display_name": "Python 3",
   "language": "python",
   "name": "python3"
  },
  "language_info": {
   "codemirror_mode": {
    "name": "ipython",
    "version": 3
   },
   "file_extension": ".py",
   "mimetype": "text/x-python",
   "name": "python",
   "nbconvert_exporter": "python",
   "pygments_lexer": "ipython3",
   "version": "3.5.2"
  }
 },
 "nbformat": 4,
 "nbformat_minor": 2
}
