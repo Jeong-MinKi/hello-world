{
 "cells": [
  {
   "cell_type": "code",
   "execution_count": 3,
   "metadata": {},
   "outputs": [
    {
     "name": "stdout",
     "output_type": "stream",
     "text": [
      "Please enter number:4\n",
      "Wow, you are so lucky!\n"
     ]
    }
   ],
   "source": [
    "import random\n",
    "a = random.randint(0,5)\n",
    "b= int(input('Please enter number:'))\n",
    "\n",
    "if a < b:\n",
    "    print('It is larger')\n",
    "elif a > b:\n",
    "    print('It is smaller')\n",
    "else:\n",
    "    print('Wow, you are so lucky!')"
   ]
  },
  {
   "cell_type": "code",
   "execution_count": null,
   "metadata": {},
   "outputs": [],
   "source": []
  }
 ],
 "metadata": {
  "kernelspec": {
   "display_name": "Python 3",
   "language": "python",
   "name": "python3"
  },
  "language_info": {
   "codemirror_mode": {
    "name": "ipython",
    "version": 3
   },
   "file_extension": ".py",
   "mimetype": "text/x-python",
   "name": "python",
   "nbconvert_exporter": "python",
   "pygments_lexer": "ipython3",
   "version": "3.7.3"
  }
 },
 "nbformat": 4,
 "nbformat_minor": 2
}
