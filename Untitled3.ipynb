{
 "cells": [
  {
   "cell_type": "code",
   "execution_count": 10,
   "metadata": {},
   "outputs": [
    {
     "name": "stdout",
     "output_type": "stream",
     "text": [
      "Please enter height in centimeters unit:a\n",
      "Please enter width in centimeters unit:5\n",
      "Error, please enter numeric input\n"
     ]
    }
   ],
   "source": [
    "height = input('Please enter height in centimeters unit:')\n",
    "width = input('Please enter width in centimeters unit:')\n",
    "\n",
    "try:\n",
    "    h = int(height) \n",
    "except:\n",
    "    h = -1\n",
    "    \n",
    "try:\n",
    "    w = int(width)\n",
    "except:\n",
    "    w = -1\n",
    "\n",
    "if h > 0 and w > 0:\n",
    "    area = h * w\n",
    "    print('Area of rectangle is', area)\n",
    "else:\n",
    "    print('Error, please enter numeric input')"
   ]
  },
  {
   "cell_type": "code",
   "execution_count": null,
   "metadata": {},
   "outputs": [],
   "source": []
  },
  {
   "cell_type": "code",
   "execution_count": 11,
   "metadata": {},
   "outputs": [
    {
     "name": "stdout",
     "output_type": "stream",
     "text": [
      "Please enter height in centimeters unit:5\n",
      "Please enter width in centimeters unit:5\n",
      "Area of rectangle is  25 cm^2\n"
     ]
    }
   ],
   "source": [
    "height = int(input('Please enter height in centimeters unit:'))\n",
    "width = int(input('Please enter width in centimeters unit:'))\n",
    "\n",
    "area = height * width\n",
    "\n",
    "print('Area of rectangle is ', area, 'cm^2')\n"
   ]
  },
  {
   "cell_type": "code",
   "execution_count": 12,
   "metadata": {},
   "outputs": [
    {
     "name": "stdout",
     "output_type": "stream",
     "text": [
      "Please enter number:15\n",
      "3\n",
      "6\n",
      "9\n",
      "12\n",
      "15\n"
     ]
    }
   ],
   "source": [
    "x = int(input('Please enter number:'))\n",
    "\n",
    "for y in range(1,x+1):\n",
    "    if y %3 ==0:\n",
    "        print(y)"
   ]
  },
  {
   "cell_type": "code",
   "execution_count": 17,
   "metadata": {},
   "outputs": [
    {
     "name": "stdout",
     "output_type": "stream",
     "text": [
      "Please enter number:a\n",
      "Error, please enter numeric input\n"
     ]
    }
   ],
   "source": [
    "x = input('Please enter number:')\n",
    "\n",
    "try:\n",
    "    z=int(x)\n",
    "except:\n",
    "    z=-1\n",
    "    \n",
    "if z > 0:    \n",
    "    for z in range(1,x+1):\n",
    "        if z %3 ==0:\n",
    "            print(z)\n",
    "else:\n",
    "     print('Error, please enter numeric input')\n"
   ]
  },
  {
   "cell_type": "code",
   "execution_count": 18,
   "metadata": {},
   "outputs": [
    {
     "name": "stdout",
     "output_type": "stream",
     "text": [
      "Please enter number:4\n",
      "Less than 5\n"
     ]
    }
   ],
   "source": [
    "x = int(input('Please enter number:'))\n",
    "\n",
    "if x<5:\n",
    "    print('Less than 5')\n",
    "if x==5:\n",
    "    print('Equal to 5')\n",
    "if x>5:\n",
    "    print('Greater than 5')\n"
   ]
  },
  {
   "cell_type": "code",
   "execution_count": 20,
   "metadata": {},
   "outputs": [
    {
     "name": "stdout",
     "output_type": "stream",
     "text": [
      "Please enter number:a\n",
      "Error, please enter numeric input\n"
     ]
    }
   ],
   "source": [
    "x = input('Please enter number:')\n",
    "\n",
    "try:\n",
    "    y=int(x)\n",
    "except:\n",
    "    y = -1\n",
    "\n",
    "if y >0:\n",
    "\n",
    "    if y<5:\n",
    "        print('Less than 5')\n",
    "    if y==5:\n",
    "        print('Equal to 5')\n",
    "    if y>5:\n",
    "        print('Greater than 5')\n",
    "else:\n",
    "    print('Error, please enter numeric input')"
   ]
  },
  {
   "cell_type": "code",
   "execution_count": null,
   "metadata": {},
   "outputs": [],
   "source": []
  }
 ],
 "metadata": {
  "kernelspec": {
   "display_name": "Python 3",
   "language": "python",
   "name": "python3"
  },
  "language_info": {
   "codemirror_mode": {
    "name": "ipython",
    "version": 3
   },
   "file_extension": ".py",
   "mimetype": "text/x-python",
   "name": "python",
   "nbconvert_exporter": "python",
   "pygments_lexer": "ipython3",
   "version": "3.5.2"
  }
 },
 "nbformat": 4,
 "nbformat_minor": 2
}
